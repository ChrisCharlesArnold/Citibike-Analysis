{
 "cells": [
  {
   "cell_type": "markdown",
   "id": "4734dd59",
   "metadata": {},
   "source": [
    "# 6.4 Machine Learning Citibike\n"
   ]
  },
  {
   "cell_type": "markdown",
   "id": "23b2dceb",
   "metadata": {},
   "source": [
    "This script contains the following:\n",
    "1. Importing libraries and data\n",
    "2. Data cleaning\n",
    "3. Data prep for regression analysis\n",
    "4. Regression analysis"
   ]
  },
  {
   "cell_type": "markdown",
   "id": "ba9d04eb",
   "metadata": {},
   "source": [
    "Hypothesis: As age increases, ride duration per rental decreases"
   ]
  },
  {
   "cell_type": "markdown",
   "id": "da5b0211",
   "metadata": {},
   "source": [
    "## 1. Importing libraries and data"
   ]
  },
  {
   "cell_type": "code",
   "execution_count": 1,
   "id": "47e25133",
   "metadata": {},
   "outputs": [],
   "source": [
    "import pandas as pd\n",
    "import numpy as np\n",
    "import seaborn as sns\n",
    "import matplotlib\n",
    "import matplotlib.pyplot as plt\n",
    "import os\n",
    "import sklearn\n",
    "from sklearn.model_selection import train_test_split \n",
    "from sklearn.linear_model import LinearRegression\n",
    "from sklearn.metrics import mean_squared_error, r2_score"
   ]
  },
  {
   "cell_type": "code",
   "execution_count": 2,
   "id": "1b83272a",
   "metadata": {},
   "outputs": [],
   "source": [
    "# This option ensures that the graphs you create are displayed within the notebook without the need to \"call\" them specifically.\n",
    "\n",
    "%matplotlib inline"
   ]
  },
  {
   "cell_type": "code",
   "execution_count": 3,
   "id": "0b76beaf",
   "metadata": {},
   "outputs": [],
   "source": [
    "# Identifying pathway for import for ease with multiple imports\n",
    "path = r'C:\\Users\\Chris Arnold\\Documents\\Citibike Analysis'"
   ]
  },
  {
   "cell_type": "code",
   "execution_count": 4,
   "id": "c057a77f",
   "metadata": {},
   "outputs": [],
   "source": [
    "df = pd.read_csv(os.path.join(path, '02 Data', 'Prepared Data', 'citibike_cleaned.csv'))"
   ]
  },
  {
   "cell_type": "markdown",
   "id": "588cc825",
   "metadata": {},
   "source": [
    "## 02. Data cleaning"
   ]
  },
  {
   "cell_type": "markdown",
   "id": "5adc7b74",
   "metadata": {},
   "source": [
    "There should not neet be be any cleaning for this analysis. I am running trip duration against age. I may have to remove outliers."
   ]
  },
  {
   "cell_type": "code",
   "execution_count": 5,
   "id": "578ee69f",
   "metadata": {},
   "outputs": [
    {
     "data": {
      "text/plain": [
       "Index(['Unnamed: 0', 'state', 'trip_id', 'bike_id', 'weekday', 'weekday_index',\n",
       "       'start_hour', 'start_time', 'start_station_id', 'start_station_name',\n",
       "       'start_station_latitude', 'start_station_longitude', 'start_coordinate',\n",
       "       'end_time', 'end_station_id', 'end_station_name',\n",
       "       'end_station_latitude', 'end_station_longitude', 'end_coordinate',\n",
       "       'trip_duration', 'subscriber', 'birth_year', 'age', 'gender'],\n",
       "      dtype='object')"
      ]
     },
     "execution_count": 5,
     "metadata": {},
     "output_type": "execute_result"
    }
   ],
   "source": [
    "df.columns"
   ]
  },
  {
   "cell_type": "code",
   "execution_count": 6,
   "id": "dfbff613",
   "metadata": {},
   "outputs": [
    {
     "data": {
      "text/html": [
       "<div>\n",
       "<style scoped>\n",
       "    .dataframe tbody tr th:only-of-type {\n",
       "        vertical-align: middle;\n",
       "    }\n",
       "\n",
       "    .dataframe tbody tr th {\n",
       "        vertical-align: top;\n",
       "    }\n",
       "\n",
       "    .dataframe thead th {\n",
       "        text-align: right;\n",
       "    }\n",
       "</style>\n",
       "<table border=\"1\" class=\"dataframe\">\n",
       "  <thead>\n",
       "    <tr style=\"text-align: right;\">\n",
       "      <th></th>\n",
       "      <th>Unnamed: 0</th>\n",
       "      <th>state</th>\n",
       "      <th>trip_id</th>\n",
       "      <th>bike_id</th>\n",
       "      <th>weekday</th>\n",
       "      <th>weekday_index</th>\n",
       "      <th>start_hour</th>\n",
       "      <th>start_time</th>\n",
       "      <th>start_station_id</th>\n",
       "      <th>start_station_name</th>\n",
       "      <th>...</th>\n",
       "      <th>end_station_id</th>\n",
       "      <th>end_station_name</th>\n",
       "      <th>end_station_latitude</th>\n",
       "      <th>end_station_longitude</th>\n",
       "      <th>end_coordinate</th>\n",
       "      <th>trip_duration</th>\n",
       "      <th>subscriber</th>\n",
       "      <th>birth_year</th>\n",
       "      <th>age</th>\n",
       "      <th>gender</th>\n",
       "    </tr>\n",
       "  </thead>\n",
       "  <tbody>\n",
       "    <tr>\n",
       "      <th>0</th>\n",
       "      <td>0</td>\n",
       "      <td>New York</td>\n",
       "      <td>LnQzQk</td>\n",
       "      <td>16013</td>\n",
       "      <td>Mon</td>\n",
       "      <td>1</td>\n",
       "      <td>18</td>\n",
       "      <td>9/9/2013 18:18</td>\n",
       "      <td>523</td>\n",
       "      <td>W 38 St &amp; 8 Ave</td>\n",
       "      <td>...</td>\n",
       "      <td>334</td>\n",
       "      <td>W 20 St &amp; 7 Ave</td>\n",
       "      <td>40.742388</td>\n",
       "      <td>-73.997262</td>\n",
       "      <td>40.74238787, -73.99726235</td>\n",
       "      <td>993</td>\n",
       "      <td>Subscriber</td>\n",
       "      <td>1968</td>\n",
       "      <td>45</td>\n",
       "      <td>Female</td>\n",
       "    </tr>\n",
       "    <tr>\n",
       "      <th>1</th>\n",
       "      <td>1</td>\n",
       "      <td>New York</td>\n",
       "      <td>IL9boN</td>\n",
       "      <td>15230</td>\n",
       "      <td>Thu</td>\n",
       "      <td>4</td>\n",
       "      <td>18</td>\n",
       "      <td>9/12/2013 18:38</td>\n",
       "      <td>257</td>\n",
       "      <td>Lispenard St &amp; Broadway</td>\n",
       "      <td>...</td>\n",
       "      <td>236</td>\n",
       "      <td>St Marks Pl &amp; 2 Ave</td>\n",
       "      <td>40.728419</td>\n",
       "      <td>-73.987140</td>\n",
       "      <td>40.7284186, -73.98713956</td>\n",
       "      <td>581</td>\n",
       "      <td>Subscriber</td>\n",
       "      <td>1983</td>\n",
       "      <td>30</td>\n",
       "      <td>Male</td>\n",
       "    </tr>\n",
       "    <tr>\n",
       "      <th>2</th>\n",
       "      <td>2</td>\n",
       "      <td>New York</td>\n",
       "      <td>46clGB</td>\n",
       "      <td>17942</td>\n",
       "      <td>Wed</td>\n",
       "      <td>3</td>\n",
       "      <td>19</td>\n",
       "      <td>9/18/2013 19:44</td>\n",
       "      <td>479</td>\n",
       "      <td>9 Ave &amp; W 45 St</td>\n",
       "      <td>...</td>\n",
       "      <td>513</td>\n",
       "      <td>W 56 St &amp; 10 Ave</td>\n",
       "      <td>40.768254</td>\n",
       "      <td>-73.988639</td>\n",
       "      <td>40.768254, -73.988639</td>\n",
       "      <td>361</td>\n",
       "      <td>Subscriber</td>\n",
       "      <td>1989</td>\n",
       "      <td>24</td>\n",
       "      <td>Male</td>\n",
       "    </tr>\n",
       "    <tr>\n",
       "      <th>3</th>\n",
       "      <td>3</td>\n",
       "      <td>New York</td>\n",
       "      <td>v7vdFt</td>\n",
       "      <td>19683</td>\n",
       "      <td>Sat</td>\n",
       "      <td>6</td>\n",
       "      <td>11</td>\n",
       "      <td>9/28/2013 11:54</td>\n",
       "      <td>527</td>\n",
       "      <td>E 33 St &amp; 1 Ave</td>\n",
       "      <td>...</td>\n",
       "      <td>441</td>\n",
       "      <td>E 52 St &amp; 2 Ave</td>\n",
       "      <td>40.756014</td>\n",
       "      <td>-73.967416</td>\n",
       "      <td>40.756014, -73.967416</td>\n",
       "      <td>561</td>\n",
       "      <td>Subscriber</td>\n",
       "      <td>1988</td>\n",
       "      <td>25</td>\n",
       "      <td>Female</td>\n",
       "    </tr>\n",
       "    <tr>\n",
       "      <th>4</th>\n",
       "      <td>4</td>\n",
       "      <td>New York</td>\n",
       "      <td>VGBsb5</td>\n",
       "      <td>18024</td>\n",
       "      <td>Sat</td>\n",
       "      <td>6</td>\n",
       "      <td>18</td>\n",
       "      <td>9/7/2013 18:08</td>\n",
       "      <td>521</td>\n",
       "      <td>8 Ave &amp; W 31 St</td>\n",
       "      <td>...</td>\n",
       "      <td>476</td>\n",
       "      <td>E 31 St &amp; 3 Ave</td>\n",
       "      <td>40.743943</td>\n",
       "      <td>-73.979661</td>\n",
       "      <td>40.74394314, -73.97966069</td>\n",
       "      <td>2296</td>\n",
       "      <td>Non-Subscriber</td>\n",
       "      <td>0</td>\n",
       "      <td>0</td>\n",
       "      <td>Unknown</td>\n",
       "    </tr>\n",
       "    <tr>\n",
       "      <th>5</th>\n",
       "      <td>5</td>\n",
       "      <td>New York</td>\n",
       "      <td>HbKJBz</td>\n",
       "      <td>14581</td>\n",
       "      <td>Fri</td>\n",
       "      <td>5</td>\n",
       "      <td>22</td>\n",
       "      <td>9/27/2013 22:01</td>\n",
       "      <td>293</td>\n",
       "      <td>Lafayette St &amp; E 8 St</td>\n",
       "      <td>...</td>\n",
       "      <td>432</td>\n",
       "      <td>E 7 St &amp; Avenue A</td>\n",
       "      <td>40.726218</td>\n",
       "      <td>-73.983799</td>\n",
       "      <td>40.72621788, -73.98379855</td>\n",
       "      <td>427</td>\n",
       "      <td>Subscriber</td>\n",
       "      <td>1986</td>\n",
       "      <td>27</td>\n",
       "      <td>Female</td>\n",
       "    </tr>\n",
       "    <tr>\n",
       "      <th>6</th>\n",
       "      <td>6</td>\n",
       "      <td>New York</td>\n",
       "      <td>aOKk3s</td>\n",
       "      <td>15022</td>\n",
       "      <td>Sun</td>\n",
       "      <td>7</td>\n",
       "      <td>13</td>\n",
       "      <td>9/29/2013 13:13</td>\n",
       "      <td>380</td>\n",
       "      <td>W 4 St &amp; 7 Ave S</td>\n",
       "      <td>...</td>\n",
       "      <td>317</td>\n",
       "      <td>E 6 St &amp; Avenue B</td>\n",
       "      <td>40.724537</td>\n",
       "      <td>-73.981854</td>\n",
       "      <td>40.72453734, -73.98185424</td>\n",
       "      <td>639</td>\n",
       "      <td>Subscriber</td>\n",
       "      <td>1994</td>\n",
       "      <td>19</td>\n",
       "      <td>Male</td>\n",
       "    </tr>\n",
       "    <tr>\n",
       "      <th>7</th>\n",
       "      <td>7</td>\n",
       "      <td>New York</td>\n",
       "      <td>kpcluW</td>\n",
       "      <td>16253</td>\n",
       "      <td>Sat</td>\n",
       "      <td>6</td>\n",
       "      <td>10</td>\n",
       "      <td>9/21/2013 10:48</td>\n",
       "      <td>346</td>\n",
       "      <td>Bank St &amp; Hudson St</td>\n",
       "      <td>...</td>\n",
       "      <td>212</td>\n",
       "      <td>W 16 St &amp; The High Line</td>\n",
       "      <td>40.743349</td>\n",
       "      <td>-74.006818</td>\n",
       "      <td>40.74334935, -74.00681753</td>\n",
       "      <td>263</td>\n",
       "      <td>Subscriber</td>\n",
       "      <td>1969</td>\n",
       "      <td>44</td>\n",
       "      <td>Male</td>\n",
       "    </tr>\n",
       "    <tr>\n",
       "      <th>8</th>\n",
       "      <td>8</td>\n",
       "      <td>New York</td>\n",
       "      <td>GC8mJC</td>\n",
       "      <td>16745</td>\n",
       "      <td>Fri</td>\n",
       "      <td>5</td>\n",
       "      <td>12</td>\n",
       "      <td>9/20/2013 12:29</td>\n",
       "      <td>510</td>\n",
       "      <td>W 51 St &amp; 6 Ave</td>\n",
       "      <td>...</td>\n",
       "      <td>422</td>\n",
       "      <td>W 59 St &amp; 10 Ave</td>\n",
       "      <td>40.770513</td>\n",
       "      <td>-73.988038</td>\n",
       "      <td>40.770513, -73.988038</td>\n",
       "      <td>666</td>\n",
       "      <td>Subscriber</td>\n",
       "      <td>1993</td>\n",
       "      <td>20</td>\n",
       "      <td>Male</td>\n",
       "    </tr>\n",
       "    <tr>\n",
       "      <th>9</th>\n",
       "      <td>9</td>\n",
       "      <td>New York</td>\n",
       "      <td>qyXq7X</td>\n",
       "      <td>19556</td>\n",
       "      <td>Tue</td>\n",
       "      <td>2</td>\n",
       "      <td>16</td>\n",
       "      <td>9/3/2013 16:56</td>\n",
       "      <td>446</td>\n",
       "      <td>W 24 St &amp; 7 Ave</td>\n",
       "      <td>...</td>\n",
       "      <td>342</td>\n",
       "      <td>Columbia St &amp; Rivington St</td>\n",
       "      <td>40.717400</td>\n",
       "      <td>-73.980166</td>\n",
       "      <td>40.71739973, -73.98016555</td>\n",
       "      <td>582</td>\n",
       "      <td>Subscriber</td>\n",
       "      <td>1983</td>\n",
       "      <td>30</td>\n",
       "      <td>Male</td>\n",
       "    </tr>\n",
       "    <tr>\n",
       "      <th>10</th>\n",
       "      <td>10</td>\n",
       "      <td>New York</td>\n",
       "      <td>aZsCdK</td>\n",
       "      <td>15732</td>\n",
       "      <td>Sat</td>\n",
       "      <td>6</td>\n",
       "      <td>20</td>\n",
       "      <td>9/7/2013 20:01</td>\n",
       "      <td>457</td>\n",
       "      <td>Broadway &amp; W 58 St</td>\n",
       "      <td>...</td>\n",
       "      <td>512</td>\n",
       "      <td>W 29 St &amp; 9 Ave</td>\n",
       "      <td>40.750073</td>\n",
       "      <td>-73.998393</td>\n",
       "      <td>40.7500727, -73.99839279</td>\n",
       "      <td>1313</td>\n",
       "      <td>Non-Subscriber</td>\n",
       "      <td>0</td>\n",
       "      <td>0</td>\n",
       "      <td>Unknown</td>\n",
       "    </tr>\n",
       "    <tr>\n",
       "      <th>11</th>\n",
       "      <td>11</td>\n",
       "      <td>New York</td>\n",
       "      <td>1tS1Gm</td>\n",
       "      <td>15316</td>\n",
       "      <td>Fri</td>\n",
       "      <td>5</td>\n",
       "      <td>23</td>\n",
       "      <td>9/6/2013 23:02</td>\n",
       "      <td>251</td>\n",
       "      <td>Mott St &amp; Prince St</td>\n",
       "      <td>...</td>\n",
       "      <td>460</td>\n",
       "      <td>S 4 St &amp; Wythe Ave</td>\n",
       "      <td>40.712859</td>\n",
       "      <td>-73.965903</td>\n",
       "      <td>40.71285887, -73.96590294</td>\n",
       "      <td>1250</td>\n",
       "      <td>Subscriber</td>\n",
       "      <td>1985</td>\n",
       "      <td>28</td>\n",
       "      <td>Male</td>\n",
       "    </tr>\n",
       "    <tr>\n",
       "      <th>12</th>\n",
       "      <td>12</td>\n",
       "      <td>New York</td>\n",
       "      <td>5ey1zk</td>\n",
       "      <td>15522</td>\n",
       "      <td>Sun</td>\n",
       "      <td>7</td>\n",
       "      <td>2</td>\n",
       "      <td>9/22/2013 2:02</td>\n",
       "      <td>393</td>\n",
       "      <td>E 5 St &amp; Avenue C</td>\n",
       "      <td>...</td>\n",
       "      <td>2022</td>\n",
       "      <td>E 59 St &amp; Sutton Pl</td>\n",
       "      <td>40.758491</td>\n",
       "      <td>-73.959206</td>\n",
       "      <td>40.75849116, -73.95920622</td>\n",
       "      <td>1007</td>\n",
       "      <td>Subscriber</td>\n",
       "      <td>1979</td>\n",
       "      <td>34</td>\n",
       "      <td>Male</td>\n",
       "    </tr>\n",
       "    <tr>\n",
       "      <th>13</th>\n",
       "      <td>13</td>\n",
       "      <td>New York</td>\n",
       "      <td>AvwgC6</td>\n",
       "      <td>15503</td>\n",
       "      <td>Fri</td>\n",
       "      <td>5</td>\n",
       "      <td>9</td>\n",
       "      <td>9/13/2013 9:09</td>\n",
       "      <td>388</td>\n",
       "      <td>W 26 St &amp; 10 Ave</td>\n",
       "      <td>...</td>\n",
       "      <td>152</td>\n",
       "      <td>Warren St &amp; Church St</td>\n",
       "      <td>40.714740</td>\n",
       "      <td>-74.009106</td>\n",
       "      <td>40.71473993, -74.00910627</td>\n",
       "      <td>1043</td>\n",
       "      <td>Subscriber</td>\n",
       "      <td>1967</td>\n",
       "      <td>46</td>\n",
       "      <td>Male</td>\n",
       "    </tr>\n",
       "    <tr>\n",
       "      <th>14</th>\n",
       "      <td>14</td>\n",
       "      <td>New York</td>\n",
       "      <td>6IMkxy</td>\n",
       "      <td>17172</td>\n",
       "      <td>Tue</td>\n",
       "      <td>2</td>\n",
       "      <td>15</td>\n",
       "      <td>9/24/2013 15:06</td>\n",
       "      <td>546</td>\n",
       "      <td>E 30 St &amp; Park Ave S</td>\n",
       "      <td>...</td>\n",
       "      <td>284</td>\n",
       "      <td>Greenwich Ave &amp; 8 Ave</td>\n",
       "      <td>40.739017</td>\n",
       "      <td>-74.002638</td>\n",
       "      <td>40.73901691, -74.00263761</td>\n",
       "      <td>820</td>\n",
       "      <td>Subscriber</td>\n",
       "      <td>1981</td>\n",
       "      <td>32</td>\n",
       "      <td>Male</td>\n",
       "    </tr>\n",
       "    <tr>\n",
       "      <th>15</th>\n",
       "      <td>15</td>\n",
       "      <td>New York</td>\n",
       "      <td>p9S46q</td>\n",
       "      <td>15973</td>\n",
       "      <td>Mon</td>\n",
       "      <td>1</td>\n",
       "      <td>18</td>\n",
       "      <td>9/16/2013 18:45</td>\n",
       "      <td>167</td>\n",
       "      <td>E 39 St &amp; 3 Ave</td>\n",
       "      <td>...</td>\n",
       "      <td>440</td>\n",
       "      <td>E 45 St &amp; 3 Ave</td>\n",
       "      <td>40.752554</td>\n",
       "      <td>-73.972826</td>\n",
       "      <td>40.75255434, -73.97282625</td>\n",
       "      <td>174</td>\n",
       "      <td>Subscriber</td>\n",
       "      <td>1959</td>\n",
       "      <td>54</td>\n",
       "      <td>Male</td>\n",
       "    </tr>\n",
       "    <tr>\n",
       "      <th>16</th>\n",
       "      <td>16</td>\n",
       "      <td>New York</td>\n",
       "      <td>wRrzoj</td>\n",
       "      <td>19355</td>\n",
       "      <td>Mon</td>\n",
       "      <td>1</td>\n",
       "      <td>6</td>\n",
       "      <td>9/23/2013 6:54</td>\n",
       "      <td>404</td>\n",
       "      <td>9 Ave &amp; W 14 St</td>\n",
       "      <td>...</td>\n",
       "      <td>296</td>\n",
       "      <td>Division St &amp; Bowery</td>\n",
       "      <td>40.714131</td>\n",
       "      <td>-73.997047</td>\n",
       "      <td>40.71413089, -73.9970468</td>\n",
       "      <td>1286</td>\n",
       "      <td>Subscriber</td>\n",
       "      <td>1976</td>\n",
       "      <td>37</td>\n",
       "      <td>Male</td>\n",
       "    </tr>\n",
       "    <tr>\n",
       "      <th>17</th>\n",
       "      <td>17</td>\n",
       "      <td>New York</td>\n",
       "      <td>VqhF3S</td>\n",
       "      <td>15651</td>\n",
       "      <td>Mon</td>\n",
       "      <td>1</td>\n",
       "      <td>18</td>\n",
       "      <td>9/30/2013 18:32</td>\n",
       "      <td>363</td>\n",
       "      <td>West Thames St</td>\n",
       "      <td>...</td>\n",
       "      <td>514</td>\n",
       "      <td>12 Ave &amp; W 40 St</td>\n",
       "      <td>40.760875</td>\n",
       "      <td>-74.002777</td>\n",
       "      <td>40.76087502, -74.00277668</td>\n",
       "      <td>1751</td>\n",
       "      <td>Non-Subscriber</td>\n",
       "      <td>0</td>\n",
       "      <td>0</td>\n",
       "      <td>Unknown</td>\n",
       "    </tr>\n",
       "    <tr>\n",
       "      <th>18</th>\n",
       "      <td>18</td>\n",
       "      <td>New York</td>\n",
       "      <td>GvfdAa</td>\n",
       "      <td>18863</td>\n",
       "      <td>Fri</td>\n",
       "      <td>5</td>\n",
       "      <td>7</td>\n",
       "      <td>9/13/2013 7:46</td>\n",
       "      <td>445</td>\n",
       "      <td>E 10 St &amp; Avenue A</td>\n",
       "      <td>...</td>\n",
       "      <td>476</td>\n",
       "      <td>E 31 St &amp; 3 Ave</td>\n",
       "      <td>40.743943</td>\n",
       "      <td>-73.979661</td>\n",
       "      <td>40.74394314, -73.97966069</td>\n",
       "      <td>667</td>\n",
       "      <td>Subscriber</td>\n",
       "      <td>1989</td>\n",
       "      <td>24</td>\n",
       "      <td>Female</td>\n",
       "    </tr>\n",
       "    <tr>\n",
       "      <th>19</th>\n",
       "      <td>19</td>\n",
       "      <td>New York</td>\n",
       "      <td>iUReZf</td>\n",
       "      <td>18846</td>\n",
       "      <td>Tue</td>\n",
       "      <td>2</td>\n",
       "      <td>17</td>\n",
       "      <td>9/24/2013 17:48</td>\n",
       "      <td>505</td>\n",
       "      <td>6 Ave &amp; W 33 St</td>\n",
       "      <td>...</td>\n",
       "      <td>459</td>\n",
       "      <td>W 20 St &amp; 11 Ave</td>\n",
       "      <td>40.746745</td>\n",
       "      <td>-74.007756</td>\n",
       "      <td>40.746745, -74.007756</td>\n",
       "      <td>817</td>\n",
       "      <td>Subscriber</td>\n",
       "      <td>1985</td>\n",
       "      <td>28</td>\n",
       "      <td>Male</td>\n",
       "    </tr>\n",
       "  </tbody>\n",
       "</table>\n",
       "<p>20 rows × 24 columns</p>\n",
       "</div>"
      ],
      "text/plain": [
       "    Unnamed: 0     state trip_id  bike_id weekday  weekday_index  start_hour  \\\n",
       "0            0  New York  LnQzQk    16013     Mon              1          18   \n",
       "1            1  New York  IL9boN    15230     Thu              4          18   \n",
       "2            2  New York  46clGB    17942     Wed              3          19   \n",
       "3            3  New York  v7vdFt    19683     Sat              6          11   \n",
       "4            4  New York  VGBsb5    18024     Sat              6          18   \n",
       "5            5  New York  HbKJBz    14581     Fri              5          22   \n",
       "6            6  New York  aOKk3s    15022     Sun              7          13   \n",
       "7            7  New York  kpcluW    16253     Sat              6          10   \n",
       "8            8  New York  GC8mJC    16745     Fri              5          12   \n",
       "9            9  New York  qyXq7X    19556     Tue              2          16   \n",
       "10          10  New York  aZsCdK    15732     Sat              6          20   \n",
       "11          11  New York  1tS1Gm    15316     Fri              5          23   \n",
       "12          12  New York  5ey1zk    15522     Sun              7           2   \n",
       "13          13  New York  AvwgC6    15503     Fri              5           9   \n",
       "14          14  New York  6IMkxy    17172     Tue              2          15   \n",
       "15          15  New York  p9S46q    15973     Mon              1          18   \n",
       "16          16  New York  wRrzoj    19355     Mon              1           6   \n",
       "17          17  New York  VqhF3S    15651     Mon              1          18   \n",
       "18          18  New York  GvfdAa    18863     Fri              5           7   \n",
       "19          19  New York  iUReZf    18846     Tue              2          17   \n",
       "\n",
       "         start_time  start_station_id       start_station_name  ...  \\\n",
       "0    9/9/2013 18:18               523          W 38 St & 8 Ave  ...   \n",
       "1   9/12/2013 18:38               257  Lispenard St & Broadway  ...   \n",
       "2   9/18/2013 19:44               479          9 Ave & W 45 St  ...   \n",
       "3   9/28/2013 11:54               527          E 33 St & 1 Ave  ...   \n",
       "4    9/7/2013 18:08               521          8 Ave & W 31 St  ...   \n",
       "5   9/27/2013 22:01               293    Lafayette St & E 8 St  ...   \n",
       "6   9/29/2013 13:13               380         W 4 St & 7 Ave S  ...   \n",
       "7   9/21/2013 10:48               346      Bank St & Hudson St  ...   \n",
       "8   9/20/2013 12:29               510          W 51 St & 6 Ave  ...   \n",
       "9    9/3/2013 16:56               446          W 24 St & 7 Ave  ...   \n",
       "10   9/7/2013 20:01               457       Broadway & W 58 St  ...   \n",
       "11   9/6/2013 23:02               251      Mott St & Prince St  ...   \n",
       "12   9/22/2013 2:02               393        E 5 St & Avenue C  ...   \n",
       "13   9/13/2013 9:09               388         W 26 St & 10 Ave  ...   \n",
       "14  9/24/2013 15:06               546     E 30 St & Park Ave S  ...   \n",
       "15  9/16/2013 18:45               167          E 39 St & 3 Ave  ...   \n",
       "16   9/23/2013 6:54               404          9 Ave & W 14 St  ...   \n",
       "17  9/30/2013 18:32               363           West Thames St  ...   \n",
       "18   9/13/2013 7:46               445       E 10 St & Avenue A  ...   \n",
       "19  9/24/2013 17:48               505          6 Ave & W 33 St  ...   \n",
       "\n",
       "    end_station_id            end_station_name end_station_latitude  \\\n",
       "0              334             W 20 St & 7 Ave            40.742388   \n",
       "1              236         St Marks Pl & 2 Ave            40.728419   \n",
       "2              513            W 56 St & 10 Ave            40.768254   \n",
       "3              441             E 52 St & 2 Ave            40.756014   \n",
       "4              476             E 31 St & 3 Ave            40.743943   \n",
       "5              432           E 7 St & Avenue A            40.726218   \n",
       "6              317           E 6 St & Avenue B            40.724537   \n",
       "7              212     W 16 St & The High Line            40.743349   \n",
       "8              422            W 59 St & 10 Ave            40.770513   \n",
       "9              342  Columbia St & Rivington St            40.717400   \n",
       "10             512             W 29 St & 9 Ave            40.750073   \n",
       "11             460          S 4 St & Wythe Ave            40.712859   \n",
       "12            2022         E 59 St & Sutton Pl            40.758491   \n",
       "13             152       Warren St & Church St            40.714740   \n",
       "14             284       Greenwich Ave & 8 Ave            40.739017   \n",
       "15             440             E 45 St & 3 Ave            40.752554   \n",
       "16             296        Division St & Bowery            40.714131   \n",
       "17             514            12 Ave & W 40 St            40.760875   \n",
       "18             476             E 31 St & 3 Ave            40.743943   \n",
       "19             459            W 20 St & 11 Ave            40.746745   \n",
       "\n",
       "   end_station_longitude             end_coordinate trip_duration  \\\n",
       "0             -73.997262  40.74238787, -73.99726235           993   \n",
       "1             -73.987140   40.7284186, -73.98713956           581   \n",
       "2             -73.988639      40.768254, -73.988639           361   \n",
       "3             -73.967416      40.756014, -73.967416           561   \n",
       "4             -73.979661  40.74394314, -73.97966069          2296   \n",
       "5             -73.983799  40.72621788, -73.98379855           427   \n",
       "6             -73.981854  40.72453734, -73.98185424           639   \n",
       "7             -74.006818  40.74334935, -74.00681753           263   \n",
       "8             -73.988038      40.770513, -73.988038           666   \n",
       "9             -73.980166  40.71739973, -73.98016555           582   \n",
       "10            -73.998393   40.7500727, -73.99839279          1313   \n",
       "11            -73.965903  40.71285887, -73.96590294          1250   \n",
       "12            -73.959206  40.75849116, -73.95920622          1007   \n",
       "13            -74.009106  40.71473993, -74.00910627          1043   \n",
       "14            -74.002638  40.73901691, -74.00263761           820   \n",
       "15            -73.972826  40.75255434, -73.97282625           174   \n",
       "16            -73.997047   40.71413089, -73.9970468          1286   \n",
       "17            -74.002777  40.76087502, -74.00277668          1751   \n",
       "18            -73.979661  40.74394314, -73.97966069           667   \n",
       "19            -74.007756      40.746745, -74.007756           817   \n",
       "\n",
       "        subscriber  birth_year age   gender  \n",
       "0       Subscriber        1968  45   Female  \n",
       "1       Subscriber        1983  30     Male  \n",
       "2       Subscriber        1989  24     Male  \n",
       "3       Subscriber        1988  25   Female  \n",
       "4   Non-Subscriber           0   0  Unknown  \n",
       "5       Subscriber        1986  27   Female  \n",
       "6       Subscriber        1994  19     Male  \n",
       "7       Subscriber        1969  44     Male  \n",
       "8       Subscriber        1993  20     Male  \n",
       "9       Subscriber        1983  30     Male  \n",
       "10  Non-Subscriber           0   0  Unknown  \n",
       "11      Subscriber        1985  28     Male  \n",
       "12      Subscriber        1979  34     Male  \n",
       "13      Subscriber        1967  46     Male  \n",
       "14      Subscriber        1981  32     Male  \n",
       "15      Subscriber        1959  54     Male  \n",
       "16      Subscriber        1976  37     Male  \n",
       "17  Non-Subscriber           0   0  Unknown  \n",
       "18      Subscriber        1989  24   Female  \n",
       "19      Subscriber        1985  28     Male  \n",
       "\n",
       "[20 rows x 24 columns]"
      ]
     },
     "execution_count": 6,
     "metadata": {},
     "output_type": "execute_result"
    }
   ],
   "source": [
    "df.head(20)"
   ]
  },
  {
   "cell_type": "code",
   "execution_count": 7,
   "id": "41aea796",
   "metadata": {},
   "outputs": [
    {
     "data": {
      "text/plain": [
       "(50000, 24)"
      ]
     },
     "execution_count": 7,
     "metadata": {},
     "output_type": "execute_result"
    }
   ],
   "source": [
    "df.shape"
   ]
  },
  {
   "cell_type": "markdown",
   "id": "0383f63c",
   "metadata": {},
   "source": [
    "Missing values check"
   ]
  },
  {
   "cell_type": "code",
   "execution_count": 8,
   "id": "37aadfb1",
   "metadata": {},
   "outputs": [
    {
     "data": {
      "text/plain": [
       "Unnamed: 0                 0\n",
       "state                      0\n",
       "trip_id                    0\n",
       "bike_id                    0\n",
       "weekday                    0\n",
       "weekday_index              0\n",
       "start_hour                 0\n",
       "start_time                 0\n",
       "start_station_id           0\n",
       "start_station_name         0\n",
       "start_station_latitude     0\n",
       "start_station_longitude    0\n",
       "start_coordinate           0\n",
       "end_time                   0\n",
       "end_station_id             0\n",
       "end_station_name           0\n",
       "end_station_latitude       0\n",
       "end_station_longitude      0\n",
       "end_coordinate             0\n",
       "trip_duration              0\n",
       "subscriber                 0\n",
       "birth_year                 0\n",
       "age                        0\n",
       "gender                     0\n",
       "dtype: int64"
      ]
     },
     "execution_count": 8,
     "metadata": {},
     "output_type": "execute_result"
    }
   ],
   "source": [
    "# Check for missing values\n",
    "\n",
    "df.isnull().sum()\n",
    "\n",
    "# No missing values to handle"
   ]
  },
  {
   "cell_type": "markdown",
   "id": "daf4cfef",
   "metadata": {},
   "source": [
    "Duplicates check"
   ]
  },
  {
   "cell_type": "code",
   "execution_count": 9,
   "id": "3c1d5667",
   "metadata": {},
   "outputs": [],
   "source": [
    "dups = df.duplicated()"
   ]
  },
  {
   "cell_type": "code",
   "execution_count": 10,
   "id": "2d5233d8",
   "metadata": {},
   "outputs": [
    {
     "data": {
      "text/plain": [
       "(50000,)"
      ]
     },
     "execution_count": 10,
     "metadata": {},
     "output_type": "execute_result"
    }
   ],
   "source": [
    "dups.shape # No dups"
   ]
  },
  {
   "cell_type": "code",
   "execution_count": 11,
   "id": "0d2e6796",
   "metadata": {},
   "outputs": [
    {
     "name": "stderr",
     "output_type": "stream",
     "text": [
      "C:\\ProgramData\\Anaconda3\\lib\\site-packages\\seaborn\\distributions.py:2619: FutureWarning: `distplot` is a deprecated function and will be removed in a future version. Please adapt your code to use either `displot` (a figure-level function with similar flexibility) or `histplot` (an axes-level function for histograms).\n",
      "  warnings.warn(msg, FutureWarning)\n"
     ]
    },
    {
     "data": {
      "text/plain": [
       "<AxesSubplot:xlabel='age', ylabel='Density'>"
      ]
     },
     "execution_count": 11,
     "metadata": {},
     "output_type": "execute_result"
    },
    {
     "data": {
      "image/png": "[encoded data removed]",
      "text/plain": [
       "<Figure size 432x288 with 1 Axes>"
      ]
     },
     "metadata": {
      "needs_background": "light"
     },
     "output_type": "display_data"
    }
   ],
   "source": [
    "sns.distplot(df['age'], bins=25) # Shows extreme values\n",
    "\n",
    "# Some of the outliers in the high values may need to be removed, but let's try without doing so first."
   ]
  },
  {
   "cell_type": "code",
   "execution_count": 12,
   "id": "a032b4b4",
   "metadata": {},
   "outputs": [
    {
     "data": {
      "text/plain": [
       "32.1558"
      ]
     },
     "execution_count": 12,
     "metadata": {},
     "output_type": "execute_result"
    }
   ],
   "source": [
    "df['age'].mean() # Check the mean"
   ]
  },
  {
   "cell_type": "code",
   "execution_count": 13,
   "id": "f2ff33f7",
   "metadata": {},
   "outputs": [
    {
     "data": {
      "text/plain": [
       "33.0"
      ]
     },
     "execution_count": 13,
     "metadata": {},
     "output_type": "execute_result"
    }
   ],
   "source": [
    "df['age'].median() # Check the median"
   ]
  },
  {
   "cell_type": "code",
   "execution_count": 14,
   "id": "603c5ad5",
   "metadata": {},
   "outputs": [
    {
     "data": {
      "text/plain": [
       "114"
      ]
     },
     "execution_count": 14,
     "metadata": {},
     "output_type": "execute_result"
    }
   ],
   "source": [
    "df['age'].max() # Check the max"
   ]
  },
  {
   "cell_type": "markdown",
   "id": "dfd43d3d",
   "metadata": {},
   "source": [
    "that age seems unlikely for the max, however I did do a quick search online and found that the oldest living person in the united states is actually over 115 years old. Is it likely that they are riding a heavy rental bike in New york city? Probably not, but it is in theory not outside of possiblilty."
   ]
  },
  {
   "cell_type": "markdown",
   "id": "a37cbc30",
   "metadata": {},
   "source": [
    "## 3. Data prep for regression analysis"
   ]
  },
  {
   "cell_type": "code",
   "execution_count": 15,
   "id": "34f2e110",
   "metadata": {},
   "outputs": [
    {
     "data": {
      "image/png": "[encoded data removed]",
      "text/plain": [
       "<Figure size 432x288 with 1 Axes>"
      ]
     },
     "metadata": {
      "needs_background": "light"
     },
     "output_type": "display_data"
    }
   ],
   "source": [
    "# Create a scatterplot using matplotlib for another look at how the chosen variables plot against each other.\n",
    "\n",
    "df.plot(x = 'age', y='trip_duration',style='o') # The style option creates a scatterplot; without it, we only have lines.\n",
    "plt.title('Age vs Trip Duration')  \n",
    "plt.xlabel('Age')  \n",
    "plt.ylabel('Trip Duration')  \n",
    "plt.show()"
   ]
  },
  {
   "cell_type": "code",
   "execution_count": 16,
   "id": "dbc9e228",
   "metadata": {},
   "outputs": [],
   "source": [
    "# Reshape the variables into NumPy arrays and put them into separate objects.\n",
    "\n",
    "X = df['age'].values.reshape(-1,1)\n",
    "y = df['trip_duration'].values.reshape(-1,1)"
   ]
  },
  {
   "cell_type": "code",
   "execution_count": 17,
   "id": "4824802d",
   "metadata": {},
   "outputs": [
    {
     "data": {
      "text/plain": [
       "array([[45],\n",
       "       [30],\n",
       "       [24],\n",
       "       ...,\n",
       "       [52],\n",
       "       [ 0],\n",
       "       [33]], dtype=int64)"
      ]
     },
     "execution_count": 17,
     "metadata": {},
     "output_type": "execute_result"
    }
   ],
   "source": [
    "X"
   ]
  },
  {
   "cell_type": "code",
   "execution_count": 19,
   "id": "6b4d00d0",
   "metadata": {},
   "outputs": [
    {
     "data": {
      "text/plain": [
       "array([[ 993],\n",
       "       [ 581],\n",
       "       [ 361],\n",
       "       ...,\n",
       "       [1050],\n",
       "       [2697],\n",
       "       [ 370]], dtype=int64)"
      ]
     },
     "execution_count": 19,
     "metadata": {},
     "output_type": "execute_result"
    }
   ],
   "source": [
    "y"
   ]
  },
  {
   "cell_type": "code",
   "execution_count": 20,
   "id": "45998f6b",
   "metadata": {},
   "outputs": [],
   "source": [
    "# Split data into a training set and a test set.\n",
    "\n",
    "X_train, X_test, y_train, y_test = train_test_split(X, y, test_size=0.3, random_state=0)"
   ]
  },
  {
   "cell_type": "markdown",
   "id": "743507af",
   "metadata": {},
   "source": [
    "## 4. Regression analysis"
   ]
  },
  {
   "cell_type": "code",
   "execution_count": 21,
   "id": "6b2f86a6",
   "metadata": {},
   "outputs": [],
   "source": [
    "# Create a regression object.\n",
    "\n",
    "regression = LinearRegression()  # This is the regression object, which will be fit onto the training set."
   ]
  },
  {
   "cell_type": "code",
   "execution_count": 22,
   "id": "e853981c",
   "metadata": {},
   "outputs": [
    {
     "data": {
      "text/plain": [
       "LinearRegression()"
      ]
     },
     "execution_count": 22,
     "metadata": {},
     "output_type": "execute_result"
    }
   ],
   "source": [
    "# Fit the regression object onto the training set.\n",
    "\n",
    "regression.fit(X_train, y_train)"
   ]
  },
  {
   "cell_type": "code",
   "execution_count": 23,
   "id": "5e13b3aa",
   "metadata": {},
   "outputs": [],
   "source": [
    "# Predict the values of y using X.\n",
    "\n",
    "y_predicted = regression.predict(X_test)"
   ]
  },
  {
   "cell_type": "code",
   "execution_count": 34,
   "id": "b5e8d32a",
   "metadata": {},
   "outputs": [
    {
     "data": {
      "image/png": "[encoded data removed]",
      "text/plain": [
       "<Figure size 432x288 with 1 Axes>"
      ]
     },
     "metadata": {
      "needs_background": "light"
     },
     "output_type": "display_data"
    }
   ],
   "source": [
    "# Create a plot that shows the regression line from the model on the test set.\n",
    "\n",
    "plot_test = plt\n",
    "plot_test.scatter(X_test, y_test, color='gray', s = 15)\n",
    "plot_test.plot(X_test, y_predicted, color='red', linewidth =3)\n",
    "plot_test.title('Age vs Trip Duration (Test set)')\n",
    "plot_test.xlabel('Age')\n",
    "plot_test.ylabel('Trip Duration')\n",
    "plot_test.show()"
   ]
  },
  {
   "cell_type": "code",
   "execution_count": 25,
   "id": "114003cf",
   "metadata": {},
   "outputs": [],
   "source": [
    "# Create objects that contain the model summary statistics.\n",
    "\n",
    "rmse = mean_squared_error(y_test, y_predicted) # This is the mean squared error\n",
    "r2 = r2_score(y_test, y_predicted) # This is the R2 score."
   ]
  },
  {
   "cell_type": "code",
   "execution_count": 26,
   "id": "8acd07be",
   "metadata": {},
   "outputs": [
    {
     "name": "stdout",
     "output_type": "stream",
     "text": [
      "Slope: [[-7.0913494]]\n",
      "Mean squared error:  318137.7229518499\n",
      "R2 score:  0.04476875881058762\n"
     ]
    }
   ],
   "source": [
    "# Print the model summary statistics. This is where you evaluate the performance of the model.\n",
    "\n",
    "print('Slope:' ,regression.coef_)\n",
    "print('Mean squared error: ', rmse)\n",
    "print('R2 score: ', r2)"
   ]
  },
  {
   "cell_type": "code",
   "execution_count": 27,
   "id": "70fb4326",
   "metadata": {},
   "outputs": [
    {
     "data": {
      "text/plain": [
       "array([[ 654.90376772],\n",
       "       [ 711.63456293],\n",
       "       [1066.20203294],\n",
       "       ...,\n",
       "       [ 818.00480393],\n",
       "       [1066.20203294],\n",
       "       [ 697.45186412]])"
      ]
     },
     "execution_count": 27,
     "metadata": {},
     "output_type": "execute_result"
    }
   ],
   "source": [
    "y_predicted"
   ]
  },
  {
   "cell_type": "code",
   "execution_count": 28,
   "id": "1aaca5b3",
   "metadata": {},
   "outputs": [
    {
     "data": {
      "text/html": [
       "<div>\n",
       "<style scoped>\n",
       "    .dataframe tbody tr th:only-of-type {\n",
       "        vertical-align: middle;\n",
       "    }\n",
       "\n",
       "    .dataframe tbody tr th {\n",
       "        vertical-align: top;\n",
       "    }\n",
       "\n",
       "    .dataframe thead th {\n",
       "        text-align: right;\n",
       "    }\n",
       "</style>\n",
       "<table border=\"1\" class=\"dataframe\">\n",
       "  <thead>\n",
       "    <tr style=\"text-align: right;\">\n",
       "      <th></th>\n",
       "      <th>Actual</th>\n",
       "      <th>Predicted</th>\n",
       "    </tr>\n",
       "  </thead>\n",
       "  <tbody>\n",
       "    <tr>\n",
       "      <th>0</th>\n",
       "      <td>360</td>\n",
       "      <td>654.903768</td>\n",
       "    </tr>\n",
       "    <tr>\n",
       "      <th>1</th>\n",
       "      <td>1626</td>\n",
       "      <td>711.634563</td>\n",
       "    </tr>\n",
       "    <tr>\n",
       "      <th>2</th>\n",
       "      <td>1137</td>\n",
       "      <td>1066.202033</td>\n",
       "    </tr>\n",
       "    <tr>\n",
       "      <th>3</th>\n",
       "      <td>758</td>\n",
       "      <td>1066.202033</td>\n",
       "    </tr>\n",
       "    <tr>\n",
       "      <th>4</th>\n",
       "      <td>306</td>\n",
       "      <td>732.908611</td>\n",
       "    </tr>\n",
       "    <tr>\n",
       "      <th>5</th>\n",
       "      <td>670</td>\n",
       "      <td>839.278852</td>\n",
       "    </tr>\n",
       "    <tr>\n",
       "      <th>6</th>\n",
       "      <td>330</td>\n",
       "      <td>846.370202</td>\n",
       "    </tr>\n",
       "    <tr>\n",
       "      <th>7</th>\n",
       "      <td>1105</td>\n",
       "      <td>1066.202033</td>\n",
       "    </tr>\n",
       "    <tr>\n",
       "      <th>8</th>\n",
       "      <td>213</td>\n",
       "      <td>896.009647</td>\n",
       "    </tr>\n",
       "    <tr>\n",
       "      <th>9</th>\n",
       "      <td>259</td>\n",
       "      <td>711.634563</td>\n",
       "    </tr>\n",
       "    <tr>\n",
       "      <th>10</th>\n",
       "      <td>593</td>\n",
       "      <td>803.822105</td>\n",
       "    </tr>\n",
       "    <tr>\n",
       "      <th>11</th>\n",
       "      <td>1868</td>\n",
       "      <td>803.822105</td>\n",
       "    </tr>\n",
       "    <tr>\n",
       "      <th>12</th>\n",
       "      <td>116</td>\n",
       "      <td>846.370202</td>\n",
       "    </tr>\n",
       "    <tr>\n",
       "      <th>13</th>\n",
       "      <td>300</td>\n",
       "      <td>867.644250</td>\n",
       "    </tr>\n",
       "    <tr>\n",
       "      <th>14</th>\n",
       "      <td>681</td>\n",
       "      <td>853.461551</td>\n",
       "    </tr>\n",
       "    <tr>\n",
       "      <th>15</th>\n",
       "      <td>282</td>\n",
       "      <td>754.182659</td>\n",
       "    </tr>\n",
       "    <tr>\n",
       "      <th>16</th>\n",
       "      <td>2446</td>\n",
       "      <td>1066.202033</td>\n",
       "    </tr>\n",
       "    <tr>\n",
       "      <th>17</th>\n",
       "      <td>429</td>\n",
       "      <td>888.918298</td>\n",
       "    </tr>\n",
       "    <tr>\n",
       "      <th>18</th>\n",
       "      <td>520</td>\n",
       "      <td>881.826949</td>\n",
       "    </tr>\n",
       "    <tr>\n",
       "      <th>19</th>\n",
       "      <td>201</td>\n",
       "      <td>853.461551</td>\n",
       "    </tr>\n",
       "    <tr>\n",
       "      <th>20</th>\n",
       "      <td>1278</td>\n",
       "      <td>846.370202</td>\n",
       "    </tr>\n",
       "    <tr>\n",
       "      <th>21</th>\n",
       "      <td>492</td>\n",
       "      <td>1066.202033</td>\n",
       "    </tr>\n",
       "    <tr>\n",
       "      <th>22</th>\n",
       "      <td>824</td>\n",
       "      <td>697.451864</td>\n",
       "    </tr>\n",
       "    <tr>\n",
       "      <th>23</th>\n",
       "      <td>1682</td>\n",
       "      <td>825.096153</td>\n",
       "    </tr>\n",
       "    <tr>\n",
       "      <th>24</th>\n",
       "      <td>838</td>\n",
       "      <td>1066.202033</td>\n",
       "    </tr>\n",
       "    <tr>\n",
       "      <th>25</th>\n",
       "      <td>416</td>\n",
       "      <td>626.538370</td>\n",
       "    </tr>\n",
       "    <tr>\n",
       "      <th>26</th>\n",
       "      <td>339</td>\n",
       "      <td>917.283696</td>\n",
       "    </tr>\n",
       "    <tr>\n",
       "      <th>27</th>\n",
       "      <td>1241</td>\n",
       "      <td>832.187503</td>\n",
       "    </tr>\n",
       "    <tr>\n",
       "      <th>28</th>\n",
       "      <td>1517</td>\n",
       "      <td>1066.202033</td>\n",
       "    </tr>\n",
       "    <tr>\n",
       "      <th>29</th>\n",
       "      <td>411</td>\n",
       "      <td>761.274009</td>\n",
       "    </tr>\n",
       "  </tbody>\n",
       "</table>\n",
       "</div>"
      ],
      "text/plain": [
       "    Actual    Predicted\n",
       "0      360   654.903768\n",
       "1     1626   711.634563\n",
       "2     1137  1066.202033\n",
       "3      758  1066.202033\n",
       "4      306   732.908611\n",
       "5      670   839.278852\n",
       "6      330   846.370202\n",
       "7     1105  1066.202033\n",
       "8      213   896.009647\n",
       "9      259   711.634563\n",
       "10     593   803.822105\n",
       "11    1868   803.822105\n",
       "12     116   846.370202\n",
       "13     300   867.644250\n",
       "14     681   853.461551\n",
       "15     282   754.182659\n",
       "16    2446  1066.202033\n",
       "17     429   888.918298\n",
       "18     520   881.826949\n",
       "19     201   853.461551\n",
       "20    1278   846.370202\n",
       "21     492  1066.202033\n",
       "22     824   697.451864\n",
       "23    1682   825.096153\n",
       "24     838  1066.202033\n",
       "25     416   626.538370\n",
       "26     339   917.283696\n",
       "27    1241   832.187503\n",
       "28    1517  1066.202033\n",
       "29     411   761.274009"
      ]
     },
     "execution_count": 28,
     "metadata": {},
     "output_type": "execute_result"
    }
   ],
   "source": [
    "# Create a dataframe comparing the actual and predicted values of y.\n",
    "\n",
    "data = pd.DataFrame({'Actual': y_test.flatten(), 'Predicted': y_predicted.flatten()})\n",
    "data.head(30)"
   ]
  },
  {
   "cell_type": "markdown",
   "id": "1d9d7756",
   "metadata": {},
   "source": [
    "Compare how the regression fits the training set"
   ]
  },
  {
   "cell_type": "code",
   "execution_count": 29,
   "id": "76657bcb",
   "metadata": {},
   "outputs": [],
   "source": [
    "# Predict.\n",
    "\n",
    "y_predicted_train = regression.predict(X_train) # This is predicting X_train!"
   ]
  },
  {
   "cell_type": "code",
   "execution_count": 30,
   "id": "185ef95d",
   "metadata": {},
   "outputs": [],
   "source": [
    "rmse = mean_squared_error(y_train, y_predicted_train)\n",
    "r2 = r2_score(y_train, y_predicted_train)"
   ]
  },
  {
   "cell_type": "code",
   "execution_count": 31,
   "id": "b54a0d1d",
   "metadata": {},
   "outputs": [
    {
     "name": "stdout",
     "output_type": "stream",
     "text": [
      "Slope: [[-7.0913494]]\n",
      "Mean squared error:  313657.65849431825\n",
      "R2 score:  0.041927960946272935\n"
     ]
    }
   ],
   "source": [
    "print('Slope:' ,regression.coef_)\n",
    "print('Mean squared error: ', rmse)\n",
    "print('R2 score: ', r2)"
   ]
  },
  {
   "cell_type": "code",
   "execution_count": 33,
   "id": "ec2f02aa",
   "metadata": {},
   "outputs": [
    {
     "data": {
      "image/png": "[encoded data removed]",
      "text/plain": [
       "<Figure size 432x288 with 1 Axes>"
      ]
     },
     "metadata": {
      "needs_background": "light"
     },
     "output_type": "display_data"
    }
   ],
   "source": [
    "# Visualizing the training set results.\n",
    "\n",
    "plot_test = plt\n",
    "plot_test.scatter(X_train, y_train, color='green', s = 15)\n",
    "plot_test.plot(X_train, y_predicted_train, color='red', linewidth =3)\n",
    "plot_test.title('Age vs Trip Duration (Train set)')\n",
    "plot_test.xlabel('Age')\n",
    "plot_test.ylabel('Trip Duration')\n",
    "plot_test.show()"
   ]
  },
  {
   "cell_type": "markdown",
   "id": "5c06bb32",
   "metadata": {},
   "source": [
    "Thoughts\n",
    "In general is is pretty easy to see that as the age goes up, that the amount of time that the rental lasts is decreasing. The scatterplot definitely shows that the trip duration does not behave linearly so a linear regression is not necessarily the best way to desribe this situation but it does give a rough trend line. Having taken many statistics classes this is not a line of best fit that would be appropriate (nor would I be comfortable presenting this as a good representation even with outliers removed) for a presentation to a company.\n",
    "Upon further investigation I came across this article\n",
    "https://machinelearningmastery.com/curve-fitting-with-python/\n",
    "This states my suspicions that this needed to be more of a polynomial regression (it appears the average of trip duration would be some form of ax^2 + bx +c to my eye), and as the article states \"Unlike supervised learning, curve fitting requires that you define the function that maps examples of inputs to outputs.\" So while it was good to go through the process, this would not be the optimal representation to present as how these two variables behave together."
   ]
  },
  {
   "cell_type": "markdown",
   "id": "7a667f59",
   "metadata": {},
   "source": [
    "I will note that the test set and the acutal set showed extremely similar results so for the purposes of this exercise. In relation to bias, I would say that there is no bias displayed at all in relation to collection or display."
   ]
  }
 ],
 "metadata": {
  "kernelspec": {
   "display_name": "Python 3 (ipykernel)",
   "language": "python",
   "name": "python3"
  },
  "language_info": {
   "codemirror_mode": {
    "name": "ipython",
    "version": 3
   },
   "file_extension": ".py",
   "mimetype": "text/x-python",
   "name": "python",
   "nbconvert_exporter": "python",
   "pygments_lexer": "ipython3",
   "version": "3.9.12"
  }
 },
 "nbformat": 4,
 "nbformat_minor": 5
}
