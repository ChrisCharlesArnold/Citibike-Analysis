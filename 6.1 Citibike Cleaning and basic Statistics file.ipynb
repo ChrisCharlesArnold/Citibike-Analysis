{
 "cells": [
  {
   "cell_type": "markdown",
   "id": "b72c1063",
   "metadata": {},
   "source": [
    "# Citibike Cleaning and basic Statistics file"
   ]
  },
  {
   "cell_type": "markdown",
   "id": "49dcc4bd",
   "metadata": {},
   "source": [
    "This script contains the following points:\n",
    "\n",
    "01. Improting Libraries\n",
    "02. Importing CSV/PKL files\n",
    "03. Cleaning the data\n",
    "04. Basic Descriptive Statistics \n",
    "05. Exporting files and visuals  "
   ]
  },
  {
   "cell_type": "markdown",
   "id": "3b715b37",
   "metadata": {},
   "source": [
    "## 01. Importing Libraries"
   ]
  },
  {
   "cell_type": "code",
   "execution_count": 1,
   "id": "ff54d5f3",
   "metadata": {},
   "outputs": [],
   "source": [
    "# Import libraries\n",
    "\n",
    "import pandas as pd\n",
    "import numpy as np\n",
    "import os\n",
    "import matplotlib.pyplot as plt\n",
    "import seaborn as sns\n",
    "import scipy"
   ]
  },
  {
   "cell_type": "markdown",
   "id": "49be4c57",
   "metadata": {},
   "source": [
    "## 02. Importing CSV/PKL files"
   ]
  },
  {
   "cell_type": "code",
   "execution_count": 2,
   "id": "3100563b",
   "metadata": {},
   "outputs": [],
   "source": [
    "# Identifying pathway for import for ease with multiple imports\n",
    "path = r'C:\\Users\\Chris Arnold\\Documents\\Citibike Analysis'"
   ]
  },
  {
   "cell_type": "code",
   "execution_count": 3,
   "id": "dc32709f",
   "metadata": {},
   "outputs": [],
   "source": [
    "# Importing orders_products__customers_merged.pkl\n",
    "citibike_complete = pd.read_csv(os.path.join(path, '02 Data', 'Original Data', 'citibike.csv'))"
   ]
  },
  {
   "cell_type": "markdown",
   "id": "9000767b",
   "metadata": {},
   "source": [
    "## 03. Cleaning the data"
   ]
  },
  {
   "cell_type": "code",
   "execution_count": 4,
   "id": "20fa0628",
   "metadata": {},
   "outputs": [
    {
     "data": {
      "text/html": [
       "<div>\n",
       "<style scoped>\n",
       "    .dataframe tbody tr th:only-of-type {\n",
       "        vertical-align: middle;\n",
       "    }\n",
       "\n",
       "    .dataframe tbody tr th {\n",
       "        vertical-align: top;\n",
       "    }\n",
       "\n",
       "    .dataframe thead th {\n",
       "        text-align: right;\n",
       "    }\n",
       "</style>\n",
       "<table border=\"1\" class=\"dataframe\">\n",
       "  <thead>\n",
       "    <tr style=\"text-align: right;\">\n",
       "      <th></th>\n",
       "      <th>trip_id</th>\n",
       "      <th>bike_id</th>\n",
       "      <th>weekday</th>\n",
       "      <th>start_hour</th>\n",
       "      <th>start_time</th>\n",
       "      <th>start_station_id</th>\n",
       "      <th>start_station_name</th>\n",
       "      <th>start_station_latitude</th>\n",
       "      <th>start_station_longitude</th>\n",
       "      <th>end_time</th>\n",
       "      <th>end_station_id</th>\n",
       "      <th>end_station_name</th>\n",
       "      <th>end_station_latitude</th>\n",
       "      <th>end_station_longitude</th>\n",
       "      <th>trip_duration</th>\n",
       "      <th>subscriber</th>\n",
       "      <th>birth_year</th>\n",
       "      <th>gender</th>\n",
       "    </tr>\n",
       "  </thead>\n",
       "  <tbody>\n",
       "    <tr>\n",
       "      <th>0</th>\n",
       "      <td>LnQzQk</td>\n",
       "      <td>16013</td>\n",
       "      <td>Mon</td>\n",
       "      <td>18</td>\n",
       "      <td>2013-09-09 18:18:55</td>\n",
       "      <td>523</td>\n",
       "      <td>W 38 St &amp; 8 Ave</td>\n",
       "      <td>40.754666</td>\n",
       "      <td>-73.991382</td>\n",
       "      <td>2013-09-09 18:35:28</td>\n",
       "      <td>334</td>\n",
       "      <td>W 20 St &amp; 7 Ave</td>\n",
       "      <td>40.742388</td>\n",
       "      <td>-73.997262</td>\n",
       "      <td>993</td>\n",
       "      <td>Subscriber</td>\n",
       "      <td>1968.0</td>\n",
       "      <td>2</td>\n",
       "    </tr>\n",
       "    <tr>\n",
       "      <th>1</th>\n",
       "      <td>IL9boN</td>\n",
       "      <td>15230</td>\n",
       "      <td>Thu</td>\n",
       "      <td>18</td>\n",
       "      <td>2013-09-12 18:38:53</td>\n",
       "      <td>257</td>\n",
       "      <td>Lispenard St &amp; Broadway</td>\n",
       "      <td>40.719392</td>\n",
       "      <td>-74.002472</td>\n",
       "      <td>2013-09-12 18:48:34</td>\n",
       "      <td>236</td>\n",
       "      <td>St Marks Pl &amp; 2 Ave</td>\n",
       "      <td>40.728419</td>\n",
       "      <td>-73.987140</td>\n",
       "      <td>581</td>\n",
       "      <td>Subscriber</td>\n",
       "      <td>1983.0</td>\n",
       "      <td>1</td>\n",
       "    </tr>\n",
       "    <tr>\n",
       "      <th>2</th>\n",
       "      <td>46clGB</td>\n",
       "      <td>17942</td>\n",
       "      <td>Wed</td>\n",
       "      <td>19</td>\n",
       "      <td>2013-09-18 19:44:04</td>\n",
       "      <td>479</td>\n",
       "      <td>9 Ave &amp; W 45 St</td>\n",
       "      <td>40.760193</td>\n",
       "      <td>-73.991255</td>\n",
       "      <td>2013-09-18 19:50:05</td>\n",
       "      <td>513</td>\n",
       "      <td>W 56 St &amp; 10 Ave</td>\n",
       "      <td>40.768254</td>\n",
       "      <td>-73.988639</td>\n",
       "      <td>361</td>\n",
       "      <td>Subscriber</td>\n",
       "      <td>1989.0</td>\n",
       "      <td>1</td>\n",
       "    </tr>\n",
       "    <tr>\n",
       "      <th>3</th>\n",
       "      <td>v7vdFt</td>\n",
       "      <td>19683</td>\n",
       "      <td>Sat</td>\n",
       "      <td>11</td>\n",
       "      <td>2013-09-28 11:54:37</td>\n",
       "      <td>527</td>\n",
       "      <td>E 33 St &amp; 1 Ave</td>\n",
       "      <td>40.743156</td>\n",
       "      <td>-73.974347</td>\n",
       "      <td>2013-09-28 12:03:58</td>\n",
       "      <td>441</td>\n",
       "      <td>E 52 St &amp; 2 Ave</td>\n",
       "      <td>40.756014</td>\n",
       "      <td>-73.967416</td>\n",
       "      <td>561</td>\n",
       "      <td>Subscriber</td>\n",
       "      <td>1988.0</td>\n",
       "      <td>2</td>\n",
       "    </tr>\n",
       "    <tr>\n",
       "      <th>4</th>\n",
       "      <td>VGBsb5</td>\n",
       "      <td>18024</td>\n",
       "      <td>Sat</td>\n",
       "      <td>18</td>\n",
       "      <td>2013-09-07 18:08:22</td>\n",
       "      <td>521</td>\n",
       "      <td>8 Ave &amp; W 31 St</td>\n",
       "      <td>40.750450</td>\n",
       "      <td>-73.994811</td>\n",
       "      <td>2013-09-07 18:46:38</td>\n",
       "      <td>476</td>\n",
       "      <td>E 31 St &amp; 3 Ave</td>\n",
       "      <td>40.743943</td>\n",
       "      <td>-73.979661</td>\n",
       "      <td>2296</td>\n",
       "      <td>Non-Subscriber</td>\n",
       "      <td>NaN</td>\n",
       "      <td>0</td>\n",
       "    </tr>\n",
       "  </tbody>\n",
       "</table>\n",
       "</div>"
      ],
      "text/plain": [
       "  trip_id  bike_id weekday  start_hour           start_time  start_station_id  \\\n",
       "0  LnQzQk    16013     Mon          18  2013-09-09 18:18:55               523   \n",
       "1  IL9boN    15230     Thu          18  2013-09-12 18:38:53               257   \n",
       "2  46clGB    17942     Wed          19  2013-09-18 19:44:04               479   \n",
       "3  v7vdFt    19683     Sat          11  2013-09-28 11:54:37               527   \n",
       "4  VGBsb5    18024     Sat          18  2013-09-07 18:08:22               521   \n",
       "\n",
       "        start_station_name  start_station_latitude  start_station_longitude  \\\n",
       "0          W 38 St & 8 Ave               40.754666               -73.991382   \n",
       "1  Lispenard St & Broadway               40.719392               -74.002472   \n",
       "2          9 Ave & W 45 St               40.760193               -73.991255   \n",
       "3          E 33 St & 1 Ave               40.743156               -73.974347   \n",
       "4          8 Ave & W 31 St               40.750450               -73.994811   \n",
       "\n",
       "              end_time  end_station_id     end_station_name  \\\n",
       "0  2013-09-09 18:35:28             334      W 20 St & 7 Ave   \n",
       "1  2013-09-12 18:48:34             236  St Marks Pl & 2 Ave   \n",
       "2  2013-09-18 19:50:05             513     W 56 St & 10 Ave   \n",
       "3  2013-09-28 12:03:58             441      E 52 St & 2 Ave   \n",
       "4  2013-09-07 18:46:38             476      E 31 St & 3 Ave   \n",
       "\n",
       "   end_station_latitude  end_station_longitude  trip_duration      subscriber  \\\n",
       "0             40.742388             -73.997262            993      Subscriber   \n",
       "1             40.728419             -73.987140            581      Subscriber   \n",
       "2             40.768254             -73.988639            361      Subscriber   \n",
       "3             40.756014             -73.967416            561      Subscriber   \n",
       "4             40.743943             -73.979661           2296  Non-Subscriber   \n",
       "\n",
       "   birth_year  gender  \n",
       "0      1968.0       2  \n",
       "1      1983.0       1  \n",
       "2      1989.0       1  \n",
       "3      1988.0       2  \n",
       "4         NaN       0  "
      ]
     },
     "execution_count": 4,
     "metadata": {},
     "output_type": "execute_result"
    }
   ],
   "source": [
    "# looking at the head of the dataset\n",
    "citibike_complete.head()"
   ]
  },
  {
   "cell_type": "code",
   "execution_count": 5,
   "id": "028c7141",
   "metadata": {},
   "outputs": [
    {
     "data": {
      "text/plain": [
       "Index(['trip_id', 'bike_id', 'weekday', 'start_hour', 'start_time',\n",
       "       'start_station_id', 'start_station_name', 'start_station_latitude',\n",
       "       'start_station_longitude', 'end_time', 'end_station_id',\n",
       "       'end_station_name', 'end_station_latitude', 'end_station_longitude',\n",
       "       'trip_duration', 'subscriber', 'birth_year', 'gender'],\n",
       "      dtype='object')"
      ]
     },
     "execution_count": 5,
     "metadata": {},
     "output_type": "execute_result"
    }
   ],
   "source": [
    "# Printing names of columns\n",
    "citibike_complete.columns"
   ]
  },
  {
   "cell_type": "code",
   "execution_count": 6,
   "id": "8d8e15fa",
   "metadata": {},
   "outputs": [
    {
     "name": "stdout",
     "output_type": "stream",
     "text": [
      "<class 'pandas.core.frame.DataFrame'>\n",
      "RangeIndex: 50000 entries, 0 to 49999\n",
      "Data columns (total 18 columns):\n",
      " #   Column                   Non-Null Count  Dtype  \n",
      "---  ------                   --------------  -----  \n",
      " 0   trip_id                  50000 non-null  object \n",
      " 1   bike_id                  50000 non-null  int64  \n",
      " 2   weekday                  50000 non-null  object \n",
      " 3   start_hour               50000 non-null  int64  \n",
      " 4   start_time               50000 non-null  object \n",
      " 5   start_station_id         50000 non-null  int64  \n",
      " 6   start_station_name       50000 non-null  object \n",
      " 7   start_station_latitude   50000 non-null  float64\n",
      " 8   start_station_longitude  50000 non-null  float64\n",
      " 9   end_time                 50000 non-null  object \n",
      " 10  end_station_id           50000 non-null  int64  \n",
      " 11  end_station_name         50000 non-null  object \n",
      " 12  end_station_latitude     50000 non-null  float64\n",
      " 13  end_station_longitude    50000 non-null  float64\n",
      " 14  trip_duration            50000 non-null  int64  \n",
      " 15  subscriber               50000 non-null  object \n",
      " 16  birth_year               43021 non-null  float64\n",
      " 17  gender                   50000 non-null  int64  \n",
      "dtypes: float64(5), int64(6), object(7)\n",
      "memory usage: 6.9+ MB\n"
     ]
    }
   ],
   "source": [
    "# Printing the number of rows and columns in the dataset\n",
    "citibike_complete.info()"
   ]
  },
  {
   "cell_type": "markdown",
   "id": "8fb82280",
   "metadata": {},
   "source": [
    "# Notice that there are null values in  birth_year (38021 missing values)"
   ]
  },
  {
   "cell_type": "markdown",
   "id": "c84dd35c",
   "metadata": {},
   "source": [
    "# All remaining 17 columns are complete (18 total columns), 5000 rows"
   ]
  },
  {
   "cell_type": "code",
   "execution_count": 8,
   "id": "d0ec6c23",
   "metadata": {},
   "outputs": [],
   "source": [
    "#Checking for mixed-type data\n",
    "for col in citibike_complete.columns.tolist():\n",
    "  weird = (citibike_complete[[col]].applymap(type) != citibike_complete[[col]].iloc[0].apply(type)).any(axis = 1)\n",
    "  if len (citibike_complete[weird]) > 0:\n",
    "    print (col)"
   ]
  },
  {
   "cell_type": "markdown",
   "id": "a3a0e3bf",
   "metadata": {},
   "source": [
    "# This came back with no output, telling us that there is no mixed data type"
   ]
  },
  {
   "cell_type": "code",
   "execution_count": 9,
   "id": "64c87b9f",
   "metadata": {},
   "outputs": [],
   "source": [
    "# Replacing all missing values in birth year with 0\n",
    "citibike_complete['birth_year'].fillna( 0 , inplace=True)"
   ]
  },
  {
   "cell_type": "code",
   "execution_count": 10,
   "id": "b11247d1",
   "metadata": {},
   "outputs": [],
   "source": [
    "# completed this so that all values would have a numberic value. Will make column as unreported age later when variables are developed"
   ]
  },
  {
   "cell_type": "code",
   "execution_count": 11,
   "id": "08b92d9c",
   "metadata": {},
   "outputs": [
    {
     "name": "stdout",
     "output_type": "stream",
     "text": [
      "<class 'pandas.core.frame.DataFrame'>\n",
      "RangeIndex: 50000 entries, 0 to 49999\n",
      "Data columns (total 18 columns):\n",
      " #   Column                   Non-Null Count  Dtype  \n",
      "---  ------                   --------------  -----  \n",
      " 0   trip_id                  50000 non-null  object \n",
      " 1   bike_id                  50000 non-null  int64  \n",
      " 2   weekday                  50000 non-null  object \n",
      " 3   start_hour               50000 non-null  int64  \n",
      " 4   start_time               50000 non-null  object \n",
      " 5   start_station_id         50000 non-null  int64  \n",
      " 6   start_station_name       50000 non-null  object \n",
      " 7   start_station_latitude   50000 non-null  float64\n",
      " 8   start_station_longitude  50000 non-null  float64\n",
      " 9   end_time                 50000 non-null  object \n",
      " 10  end_station_id           50000 non-null  int64  \n",
      " 11  end_station_name         50000 non-null  object \n",
      " 12  end_station_latitude     50000 non-null  float64\n",
      " 13  end_station_longitude    50000 non-null  float64\n",
      " 14  trip_duration            50000 non-null  int64  \n",
      " 15  subscriber               50000 non-null  object \n",
      " 16  birth_year               50000 non-null  float64\n",
      " 17  gender                   50000 non-null  int64  \n",
      "dtypes: float64(5), int64(6), object(7)\n",
      "memory usage: 6.9+ MB\n"
     ]
    }
   ],
   "source": [
    "# Printing the number of rows and columns in the dataset to check work\n",
    "citibike_complete.info()"
   ]
  },
  {
   "cell_type": "markdown",
   "id": "68665d4c",
   "metadata": {},
   "source": [
    "# things are looking good and cleaned now"
   ]
  },
  {
   "cell_type": "code",
   "execution_count": 12,
   "id": "4225a9b4",
   "metadata": {},
   "outputs": [],
   "source": [
    "#Looking for full duplicates in dataframe\n",
    "citibike_complete_dups = citibike_complete[citibike_complete.duplicated()]"
   ]
  },
  {
   "cell_type": "code",
   "execution_count": 13,
   "id": "b599b9e1",
   "metadata": {},
   "outputs": [
    {
     "data": {
      "text/html": [
       "<div>\n",
       "<style scoped>\n",
       "    .dataframe tbody tr th:only-of-type {\n",
       "        vertical-align: middle;\n",
       "    }\n",
       "\n",
       "    .dataframe tbody tr th {\n",
       "        vertical-align: top;\n",
       "    }\n",
       "\n",
       "    .dataframe thead th {\n",
       "        text-align: right;\n",
       "    }\n",
       "</style>\n",
       "<table border=\"1\" class=\"dataframe\">\n",
       "  <thead>\n",
       "    <tr style=\"text-align: right;\">\n",
       "      <th></th>\n",
       "      <th>trip_id</th>\n",
       "      <th>bike_id</th>\n",
       "      <th>weekday</th>\n",
       "      <th>start_hour</th>\n",
       "      <th>start_time</th>\n",
       "      <th>start_station_id</th>\n",
       "      <th>start_station_name</th>\n",
       "      <th>start_station_latitude</th>\n",
       "      <th>start_station_longitude</th>\n",
       "      <th>end_time</th>\n",
       "      <th>end_station_id</th>\n",
       "      <th>end_station_name</th>\n",
       "      <th>end_station_latitude</th>\n",
       "      <th>end_station_longitude</th>\n",
       "      <th>trip_duration</th>\n",
       "      <th>subscriber</th>\n",
       "      <th>birth_year</th>\n",
       "      <th>gender</th>\n",
       "    </tr>\n",
       "  </thead>\n",
       "  <tbody>\n",
       "  </tbody>\n",
       "</table>\n",
       "</div>"
      ],
      "text/plain": [
       "Empty DataFrame\n",
       "Columns: [trip_id, bike_id, weekday, start_hour, start_time, start_station_id, start_station_name, start_station_latitude, start_station_longitude, end_time, end_station_id, end_station_name, end_station_latitude, end_station_longitude, trip_duration, subscriber, birth_year, gender]\n",
       "Index: []"
      ]
     },
     "execution_count": 13,
     "metadata": {},
     "output_type": "execute_result"
    }
   ],
   "source": [
    "# Checking list created\n",
    "citibike_complete_dups.head()"
   ]
  },
  {
   "cell_type": "markdown",
   "id": "7fc6a14e",
   "metadata": {},
   "source": [
    "There are no duplicates to speak of so there are none to manage. Nothing to explain."
   ]
  },
  {
   "cell_type": "markdown",
   "id": "f5700a0e",
   "metadata": {},
   "source": [
    "# 04. Basic Descriptive Statistics "
   ]
  },
  {
   "cell_type": "code",
   "execution_count": 14,
   "id": "d9592cbc",
   "metadata": {},
   "outputs": [
    {
     "data": {
      "text/html": [
       "<div>\n",
       "<style scoped>\n",
       "    .dataframe tbody tr th:only-of-type {\n",
       "        vertical-align: middle;\n",
       "    }\n",
       "\n",
       "    .dataframe tbody tr th {\n",
       "        vertical-align: top;\n",
       "    }\n",
       "\n",
       "    .dataframe thead th {\n",
       "        text-align: right;\n",
       "    }\n",
       "</style>\n",
       "<table border=\"1\" class=\"dataframe\">\n",
       "  <thead>\n",
       "    <tr style=\"text-align: right;\">\n",
       "      <th></th>\n",
       "      <th>bike_id</th>\n",
       "      <th>start_hour</th>\n",
       "      <th>start_station_id</th>\n",
       "      <th>start_station_latitude</th>\n",
       "      <th>start_station_longitude</th>\n",
       "      <th>end_station_id</th>\n",
       "      <th>end_station_latitude</th>\n",
       "      <th>end_station_longitude</th>\n",
       "      <th>trip_duration</th>\n",
       "      <th>birth_year</th>\n",
       "      <th>gender</th>\n",
       "    </tr>\n",
       "  </thead>\n",
       "  <tbody>\n",
       "    <tr>\n",
       "      <th>count</th>\n",
       "      <td>50000.000000</td>\n",
       "      <td>50000.000000</td>\n",
       "      <td>50000.000000</td>\n",
       "      <td>50000.000000</td>\n",
       "      <td>50000.000000</td>\n",
       "      <td>50000.000000</td>\n",
       "      <td>50000.000000</td>\n",
       "      <td>50000.000000</td>\n",
       "      <td>50000.000000</td>\n",
       "      <td>50000.000000</td>\n",
       "      <td>50000.000000</td>\n",
       "    </tr>\n",
       "    <tr>\n",
       "      <th>mean</th>\n",
       "      <td>17615.269360</td>\n",
       "      <td>14.145240</td>\n",
       "      <td>443.321500</td>\n",
       "      <td>40.734170</td>\n",
       "      <td>-73.991109</td>\n",
       "      <td>442.539700</td>\n",
       "      <td>40.733859</td>\n",
       "      <td>-73.991351</td>\n",
       "      <td>838.982900</td>\n",
       "      <td>1699.869660</td>\n",
       "      <td>1.073540</td>\n",
       "    </tr>\n",
       "    <tr>\n",
       "      <th>std</th>\n",
       "      <td>1675.407446</td>\n",
       "      <td>4.860541</td>\n",
       "      <td>356.559925</td>\n",
       "      <td>0.019911</td>\n",
       "      <td>0.012555</td>\n",
       "      <td>355.756022</td>\n",
       "      <td>0.019885</td>\n",
       "      <td>0.012569</td>\n",
       "      <td>573.663997</td>\n",
       "      <td>684.739403</td>\n",
       "      <td>0.589389</td>\n",
       "    </tr>\n",
       "    <tr>\n",
       "      <th>min</th>\n",
       "      <td>14556.000000</td>\n",
       "      <td>0.000000</td>\n",
       "      <td>72.000000</td>\n",
       "      <td>40.680342</td>\n",
       "      <td>-74.017134</td>\n",
       "      <td>72.000000</td>\n",
       "      <td>40.680342</td>\n",
       "      <td>-74.017134</td>\n",
       "      <td>60.000000</td>\n",
       "      <td>0.000000</td>\n",
       "      <td>0.000000</td>\n",
       "    </tr>\n",
       "    <tr>\n",
       "      <th>25%</th>\n",
       "      <td>16188.000000</td>\n",
       "      <td>10.000000</td>\n",
       "      <td>304.000000</td>\n",
       "      <td>40.720196</td>\n",
       "      <td>-74.000271</td>\n",
       "      <td>304.000000</td>\n",
       "      <td>40.720196</td>\n",
       "      <td>-74.001547</td>\n",
       "      <td>417.000000</td>\n",
       "      <td>1962.000000</td>\n",
       "      <td>1.000000</td>\n",
       "    </tr>\n",
       "    <tr>\n",
       "      <th>50%</th>\n",
       "      <td>17584.000000</td>\n",
       "      <td>15.000000</td>\n",
       "      <td>402.000000</td>\n",
       "      <td>40.735877</td>\n",
       "      <td>-73.990765</td>\n",
       "      <td>402.000000</td>\n",
       "      <td>40.735354</td>\n",
       "      <td>-73.991218</td>\n",
       "      <td>672.000000</td>\n",
       "      <td>1975.000000</td>\n",
       "      <td>1.000000</td>\n",
       "    </tr>\n",
       "    <tr>\n",
       "      <th>75%</th>\n",
       "      <td>19014.000000</td>\n",
       "      <td>18.000000</td>\n",
       "      <td>484.000000</td>\n",
       "      <td>40.750020</td>\n",
       "      <td>-73.981923</td>\n",
       "      <td>483.000000</td>\n",
       "      <td>40.749013</td>\n",
       "      <td>-73.982050</td>\n",
       "      <td>1112.000000</td>\n",
       "      <td>1983.000000</td>\n",
       "      <td>1.000000</td>\n",
       "    </tr>\n",
       "    <tr>\n",
       "      <th>max</th>\n",
       "      <td>20642.000000</td>\n",
       "      <td>23.000000</td>\n",
       "      <td>3002.000000</td>\n",
       "      <td>40.770513</td>\n",
       "      <td>-73.950048</td>\n",
       "      <td>3002.000000</td>\n",
       "      <td>40.770513</td>\n",
       "      <td>-73.950048</td>\n",
       "      <td>2697.000000</td>\n",
       "      <td>1997.000000</td>\n",
       "      <td>2.000000</td>\n",
       "    </tr>\n",
       "  </tbody>\n",
       "</table>\n",
       "</div>"
      ],
      "text/plain": [
       "            bike_id    start_hour  start_station_id  start_station_latitude  \\\n",
       "count  50000.000000  50000.000000      50000.000000            50000.000000   \n",
       "mean   17615.269360     14.145240        443.321500               40.734170   \n",
       "std     1675.407446      4.860541        356.559925                0.019911   \n",
       "min    14556.000000      0.000000         72.000000               40.680342   \n",
       "25%    16188.000000     10.000000        304.000000               40.720196   \n",
       "50%    17584.000000     15.000000        402.000000               40.735877   \n",
       "75%    19014.000000     18.000000        484.000000               40.750020   \n",
       "max    20642.000000     23.000000       3002.000000               40.770513   \n",
       "\n",
       "       start_station_longitude  end_station_id  end_station_latitude  \\\n",
       "count             50000.000000    50000.000000          50000.000000   \n",
       "mean                -73.991109      442.539700             40.733859   \n",
       "std                   0.012555      355.756022              0.019885   \n",
       "min                 -74.017134       72.000000             40.680342   \n",
       "25%                 -74.000271      304.000000             40.720196   \n",
       "50%                 -73.990765      402.000000             40.735354   \n",
       "75%                 -73.981923      483.000000             40.749013   \n",
       "max                 -73.950048     3002.000000             40.770513   \n",
       "\n",
       "       end_station_longitude  trip_duration    birth_year        gender  \n",
       "count           50000.000000   50000.000000  50000.000000  50000.000000  \n",
       "mean              -73.991351     838.982900   1699.869660      1.073540  \n",
       "std                 0.012569     573.663997    684.739403      0.589389  \n",
       "min               -74.017134      60.000000      0.000000      0.000000  \n",
       "25%               -74.001547     417.000000   1962.000000      1.000000  \n",
       "50%               -73.991218     672.000000   1975.000000      1.000000  \n",
       "75%               -73.982050    1112.000000   1983.000000      1.000000  \n",
       "max               -73.950048    2697.000000   1997.000000      2.000000  "
      ]
     },
     "execution_count": 14,
     "metadata": {},
     "output_type": "execute_result"
    }
   ],
   "source": [
    "# Running stats on columns in df_prods\n",
    "citibike_complete.describe()"
   ]
  },
  {
   "cell_type": "markdown",
   "id": "25e3a5be",
   "metadata": {},
   "source": [
    "# 05. Exporting files and visuals"
   ]
  },
  {
   "cell_type": "code",
   "execution_count": 15,
   "id": "db7534cc",
   "metadata": {},
   "outputs": [],
   "source": [
    "#exporting cleaned orders file \n",
    "citibike_complete.to_csv(os.path.join(path, '02 Data','Prepared Data', 'citibike_cleaned.csv'))"
   ]
  }
 ],
 "metadata": {
  "kernelspec": {
   "display_name": "Python 3 (ipykernel)",
   "language": "python",
   "name": "python3"
  },
  "language_info": {
   "codemirror_mode": {
    "name": "ipython",
    "version": 3
   },
   "file_extension": ".py",
   "mimetype": "text/x-python",
   "name": "python",
   "nbconvert_exporter": "python",
   "pygments_lexer": "ipython3",
   "version": "3.9.12"
  }
 },
 "nbformat": 4,
 "nbformat_minor": 5
}
